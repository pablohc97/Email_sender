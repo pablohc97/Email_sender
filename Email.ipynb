{
 "cells": [
  {
   "cell_type": "code",
   "execution_count": null,
   "id": "e47f3bd3",
   "metadata": {},
   "outputs": [],
   "source": [
    "# Load the libraries\n",
    "import smtplib, ssl, getpass\n",
    "from email.mime.text import MIMEText\n",
    "from email.mime.multipart import MIMEMultipart"
   ]
  },
  {
   "cell_type": "code",
   "execution_count": null,
   "id": "d5c9e8fc",
   "metadata": {},
   "outputs": [],
   "source": [
    "# Login into your gmail account\n",
    "\n",
    "smtp_server = \"smtp.gmail.com\"\n",
    "port = 587  \n",
    "\n",
    "email_account = input(\"Type your email and press enter: \")\n",
    "password = getpass.getpass(prompt = 'Type your password and press enter: ')\n",
    "\n",
    "context = ssl.create_default_context()\n",
    "\n",
    "try:\n",
    "    server = smtplib.SMTP(smtp_server, port)\n",
    "    server.starttls(context = context)\n",
    "    server.login(email_account, password)\n",
    "    print('Login correct.')\n",
    "except:\n",
    "    print('An error happend and the log-in was not possible.')"
   ]
  },
  {
   "cell_type": "code",
   "execution_count": null,
   "id": "374e9e20",
   "metadata": {},
   "outputs": [],
   "source": [
    "# Send an email\n",
    "\n",
    "message = MIMEMultipart()\n",
    "message[\"From\"] = email_account\n",
    "receiver = input(\"Type the email receiver and press enter: \")\n",
    "message[\"To\"] = receiver\n",
    "message[\"Subject\"] = input(\"Type the email subject and press enter: \")\n",
    "text = input(\"Type the email text and press enter: \")\n",
    "text = MIMEText(text, \"plain\")\n",
    "message.attach(text)\n",
    "server.sendmail(email_account, receiver, message.as_string())\n",
    "print('Message sended.')"
   ]
  },
  {
   "cell_type": "code",
   "execution_count": null,
   "id": "57f169b0",
   "metadata": {},
   "outputs": [],
   "source": [
    "# Logout of your gmail account\n",
    "try:\n",
    "    server.quit()\n",
    "    print('Log-out correct.')\n",
    "except:\n",
    "    print('A problem happened and the log-out was not possible.')"
   ]
  }
 ],
 "metadata": {
  "kernelspec": {
   "display_name": "Python 3 (ipykernel)",
   "language": "python",
   "name": "python3"
  },
  "language_info": {
   "codemirror_mode": {
    "name": "ipython",
    "version": 3
   },
   "file_extension": ".py",
   "mimetype": "text/x-python",
   "name": "python",
   "nbconvert_exporter": "python",
   "pygments_lexer": "ipython3",
   "version": "3.9.7"
  }
 },
 "nbformat": 4,
 "nbformat_minor": 5
}
